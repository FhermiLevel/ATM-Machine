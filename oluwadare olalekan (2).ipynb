{
 "cells": [
  {
   "cell_type": "markdown",
   "id": "ec05a2cd-142e-425c-ad85-f1fc0396d608",
   "metadata": {},
   "source": [
    "### TASK 2"
   ]
  },
  {
   "cell_type": "markdown",
   "id": "9e3ae057-b49d-4e6b-b0d9-ac245b53de68",
   "metadata": {},
   "source": [
    "#### STUDENT GRADE EVALUATOR"
   ]
  },
  {
   "cell_type": "markdown",
   "id": "efd2c562-6e51-4ebd-97b6-d521a850fcec",
   "metadata": {},
   "source": [
    "##### Background\n",
    "###### Imagine you’re a teacher who just finished grading your students’ exams. You want a small program that automatically tells whether each student has passed or failed, and also assigns them a grade (A, B, C, D, or F)."
   ]
  },
  {
   "cell_type": "markdown",
   "id": "2db360bf-f5d3-4636-9fcd-ed2ac7d8e136",
   "metadata": {},
   "source": [
    "> **Step (a)**"
   ]
  },
  {
   "cell_type": "code",
   "execution_count": 43,
   "id": "f4f81865-eb37-4b17-99d3-26f3a9918fd7",
   "metadata": {},
   "outputs": [],
   "source": [
    "student_scores = [70,89,64,23,52,68,14,95,76,54]"
   ]
  },
  {
   "cell_type": "markdown",
   "id": "51a1b9f4-ac71-4fa2-8d67-02eec8e99319",
   "metadata": {},
   "source": [
    "> **Step (b)**"
   ]
  },
  {
   "cell_type": "code",
   "execution_count": 44,
   "id": "0f34371c-1dd0-4104-9062-32943395965d",
   "metadata": {},
   "outputs": [
    {
     "data": {
      "text/plain": [
       "'F'"
      ]
     },
     "execution_count": 44,
     "metadata": {},
     "output_type": "execute_result"
    }
   ],
   "source": [
    "def grade_student(student_scores):\n",
    "    if student_scores >= 80:\n",
    "        return \"A\"\n",
    "    elif 70 <= student_scores <= 79:\n",
    "        return \"B\"\n",
    "    elif 60 <= student_scores <= 69:\n",
    "        return \"C\"\n",
    "    elif 50 <= student_scores <= 59:\n",
    "        return \"D\"\n",
    "    elif student_scores < 50:\n",
    "        return \"F\"\n",
    "grade_student(20)  "
   ]
  },
  {
   "cell_type": "markdown",
   "id": "ca821d53-43ae-435c-b5a8-dc8302d8db35",
   "metadata": {},
   "source": [
    "> **Step (c)**"
   ]
  },
  {
   "cell_type": "code",
   "execution_count": 45,
   "id": "eab760e2-90d4-4de1-ab6b-885bd1c5d3b3",
   "metadata": {},
   "outputs": [
    {
     "name": "stdout",
     "output_type": "stream",
     "text": [
      "Student 1: Score = 70, Grade = B\n",
      "Student 2: Score = 89, Grade = A\n",
      "Student 3: Score = 64, Grade = C\n",
      "Student 4: Score = 23, Grade = F\n",
      "Student 5: Score = 52, Grade = D\n",
      "Student 6: Score = 68, Grade = C\n",
      "Student 7: Score = 14, Grade = F\n",
      "Student 8: Score = 95, Grade = A\n",
      "Student 9: Score = 76, Grade = B\n",
      "Student 10: Score = 54, Grade = D\n"
     ]
    }
   ],
   "source": [
    "for index,score in enumerate(student_scores):\n",
    "    index += 1\n",
    "    print(f\"Student {index}: Score = {score}, Grade = {grade_student(score)}\")\n",
    "    "
   ]
  },
  {
   "cell_type": "code",
   "execution_count": null,
   "id": "bcc5d7e6-c691-4749-a75b-c7b0ccc8d69c",
   "metadata": {},
   "outputs": [],
   "source": []
  },
  {
   "cell_type": "markdown",
   "id": "0b18b8fe-afa8-4cc2-91cd-ae839ba0771d",
   "metadata": {},
   "source": [
    "#### 2.\tATM SIMULATOR"
   ]
  },
  {
   "cell_type": "markdown",
   "id": "84ea45e4-4d24-4ed4-b38a-65e7fe6a268b",
   "metadata": {},
   "source": [
    "##### Background\n",
    "###### You are building a mini-ATM system. When someone inserts their card, they can check their balance, deposit, or withdraw money."
   ]
  },
  {
   "cell_type": "markdown",
   "id": "9e1f8aa8-0531-4451-a06c-7c9a81885a1c",
   "metadata": {},
   "source": [
    "> **Step (a)**"
   ]
  },
  {
   "cell_type": "code",
   "execution_count": 7,
   "id": "088aa60f-196b-413b-91f7-b0440d3904a7",
   "metadata": {},
   "outputs": [],
   "source": [
    "balance = 1000"
   ]
  },
  {
   "cell_type": "markdown",
   "id": "23f0f05a-db74-4984-9870-10a43e50767b",
   "metadata": {},
   "source": [
    "> **Step (b)**"
   ]
  },
  {
   "cell_type": "markdown",
   "id": "2acac8a2-5408-4c5a-af5c-63645d804d04",
   "metadata": {},
   "source": [
    "1 → Check Balance <br>\n",
    "2 → Deopsit Money <br>\n",
    "3 → Withdraw Money <br>\n",
    "4 → Exit <br>"
   ]
  },
  {
   "cell_type": "markdown",
   "id": "20bd0ab8-532d-4bf2-a097-3509670914b5",
   "metadata": {},
   "source": [
    "> **Step (c) and (d)**"
   ]
  },
  {
   "cell_type": "code",
   "execution_count": 40,
   "id": "59e7713e-7f2d-40e8-9269-cd7dfee3a471",
   "metadata": {},
   "outputs": [
    {
     "name": "stdout",
     "output_type": "stream",
     "text": [
      "1 → Check Balance\n",
      "2 → Deopsit Money\n",
      "3 → Withdraw Money\n",
      "4 → Exit\n"
     ]
    },
    {
     "name": "stdin",
     "output_type": "stream",
     "text": [
      "Enter your Option:  4\n"
     ]
    },
    {
     "name": "stdout",
     "output_type": "stream",
     "text": [
      "Exiting ATM, Goodbye!\n"
     ]
    }
   ],
   "source": [
    "balance = 1000\n",
    "#option = 1\n",
    "while option < 5:\n",
    "    print(f\"1 → Check Balance\")\n",
    "    print(f\"2 → Deopsit Money\")\n",
    "    print(f\"3 → Withdraw Money\")\n",
    "    print(f\"4 → Exit\")\n",
    "    \n",
    "    option = int(input(\"Enter your Option: \"))\n",
    "    if option == 1:\n",
    "        print(f\"Your current balance is: ${balance}\")\n",
    "    elif option == 2:\n",
    "        amount = float(input(\"Enter amount to deposit: \"))\n",
    "        balance += amount\n",
    "        print(f\"Deposit Succesful, New Balance: ${balance}\")\n",
    "    elif option == 3:\n",
    "        amount = float(input(\"Enter amount to withdraw: \"))\n",
    "        if amount <= balance:\n",
    "            balance -= amount\n",
    "            print(f\"Withdrawal Succesful, New Balance: ${balance}\")\n",
    "        else:\n",
    "            print(f\"insufficient Balance\")\n",
    "    elif option == 4:\n",
    "        print(\"Exiting ATM, Goodbye!\")\n",
    "        break\n",
    "    else:\n",
    "        print(f\"invalid option. Please try again\")"
   ]
  },
  {
   "cell_type": "code",
   "execution_count": 38,
   "id": "ab1118af-4438-4996-896b-fcb0a33bf563",
   "metadata": {},
   "outputs": [],
   "source": [
    "def atm_machine():\n",
    "    balance = 1000\n",
    "    option = 1\n",
    "    while option < 5:\n",
    "        print(f\"1 → Check Balance\")\n",
    "        print(f\"2 → Deopsit Money\")\n",
    "        print(f\"3 → Withdraw Money\")\n",
    "        print(f\"4 → Exit\")\n",
    "        option = int(input(\"Enter your Option: \"))\n",
    "        if option == 1:\n",
    "            print(f\"Your current balance is: ${balance}\")\n",
    "        elif option == 2:\n",
    "            amount = float(input(\"Enter amount to deposit: \"))\n",
    "            balance += amount\n",
    "            print(f\"Deposit Succesful, New Balance: ${balance}\")\n",
    "        elif option == 3:\n",
    "            amount = float(input(\"Enter amount to withdraw: \"))\n",
    "            if amount <= balance:\n",
    "                balance -= amount\n",
    "                print(f\"Withdrawal Succesful, New Balance: ${balance}\")\n",
    "            else:\n",
    "                print(f\"insufficient Balance\")\n",
    "        elif option == 4:\n",
    "            print(\"...Exiting ATM,Take your Card,Goodbye!\")\n",
    "            break\n",
    "        else:\n",
    "            print(f\"invalid option. Please try again\")  \n",
    "    "
   ]
  },
  {
   "cell_type": "code",
   "execution_count": 42,
   "id": "ce8ba624-d94f-405f-82e2-e8c85f9f1705",
   "metadata": {},
   "outputs": [
    {
     "name": "stdout",
     "output_type": "stream",
     "text": [
      "Mini ATM System\n",
      "1 → Check Balance\n",
      "2 → Deopsit Money\n",
      "3 → Withdraw Money\n",
      "4 → Exit\n"
     ]
    },
    {
     "name": "stdin",
     "output_type": "stream",
     "text": [
      "Enter your Option:  1\n"
     ]
    },
    {
     "name": "stdout",
     "output_type": "stream",
     "text": [
      "Your current balance is: $1000\n",
      "1 → Check Balance\n",
      "2 → Deopsit Money\n",
      "3 → Withdraw Money\n",
      "4 → Exit\n"
     ]
    },
    {
     "name": "stdin",
     "output_type": "stream",
     "text": [
      "Enter your Option:  2\n",
      "Enter amount to deposit:  4555\n"
     ]
    },
    {
     "name": "stdout",
     "output_type": "stream",
     "text": [
      "Deposit Succesful, New Balance: $5555.0\n",
      "1 → Check Balance\n",
      "2 → Deopsit Money\n",
      "3 → Withdraw Money\n",
      "4 → Exit\n"
     ]
    },
    {
     "name": "stdin",
     "output_type": "stream",
     "text": [
      "Enter your Option:  3\n",
      "Enter amount to withdraw:  5550\n"
     ]
    },
    {
     "name": "stdout",
     "output_type": "stream",
     "text": [
      "Withdrawal Succesful, New Balance: $5.0\n",
      "1 → Check Balance\n",
      "2 → Deopsit Money\n",
      "3 → Withdraw Money\n",
      "4 → Exit\n"
     ]
    },
    {
     "name": "stdin",
     "output_type": "stream",
     "text": [
      "Enter your Option:  3\n",
      "Enter amount to withdraw:  2\n"
     ]
    },
    {
     "name": "stdout",
     "output_type": "stream",
     "text": [
      "Withdrawal Succesful, New Balance: $3.0\n",
      "1 → Check Balance\n",
      "2 → Deopsit Money\n",
      "3 → Withdraw Money\n",
      "4 → Exit\n"
     ]
    },
    {
     "name": "stdin",
     "output_type": "stream",
     "text": [
      "Enter your Option:  3\n",
      "Enter amount to withdraw:  3000\n"
     ]
    },
    {
     "name": "stdout",
     "output_type": "stream",
     "text": [
      "insufficient Balance\n",
      "1 → Check Balance\n",
      "2 → Deopsit Money\n",
      "3 → Withdraw Money\n",
      "4 → Exit\n"
     ]
    },
    {
     "name": "stdin",
     "output_type": "stream",
     "text": [
      "Enter your Option:  4\n"
     ]
    },
    {
     "name": "stdout",
     "output_type": "stream",
     "text": [
      "...Exiting ATM,Take your Card,Goodbye!\n"
     ]
    }
   ],
   "source": [
    "print(\"Mini ATM System\")\n",
    "atm_machine()"
   ]
  },
  {
   "cell_type": "code",
   "execution_count": null,
   "id": "488fc488-ac20-4fd8-94cb-8cb2383812ba",
   "metadata": {},
   "outputs": [],
   "source": []
  }
 ],
 "metadata": {
  "kernelspec": {
   "display_name": "Python 3 (ipykernel)",
   "language": "python",
   "name": "python3"
  },
  "language_info": {
   "codemirror_mode": {
    "name": "ipython",
    "version": 3
   },
   "file_extension": ".py",
   "mimetype": "text/x-python",
   "name": "python",
   "nbconvert_exporter": "python",
   "pygments_lexer": "ipython3",
   "version": "3.13.5"
  }
 },
 "nbformat": 4,
 "nbformat_minor": 5
}
